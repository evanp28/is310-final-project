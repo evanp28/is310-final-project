{
 "cells": [
  {
   "cell_type": "code",
   "execution_count": 13,
   "metadata": {},
   "outputs": [
    {
     "data": {
      "text/html": [
       "<div>\n",
       "<style scoped>\n",
       "    .dataframe tbody tr th:only-of-type {\n",
       "        vertical-align: middle;\n",
       "    }\n",
       "\n",
       "    .dataframe tbody tr th {\n",
       "        vertical-align: top;\n",
       "    }\n",
       "\n",
       "    .dataframe thead th {\n",
       "        text-align: right;\n",
       "    }\n",
       "</style>\n",
       "<table border=\"1\" class=\"dataframe\">\n",
       "  <thead>\n",
       "    <tr style=\"text-align: right;\">\n",
       "      <th></th>\n",
       "      <th>id</th>\n",
       "      <th>name</th>\n",
       "      <th>platforms</th>\n",
       "      <th>developers</th>\n",
       "      <th>publishers</th>\n",
       "      <th>initial_release_date</th>\n",
       "      <th>genres</th>\n",
       "      <th>engine</th>\n",
       "      <th>modes</th>\n",
       "      <th>base_cost_on_steam</th>\n",
       "    </tr>\n",
       "  </thead>\n",
       "  <tbody>\n",
       "    <tr>\n",
       "      <th>0</th>\n",
       "      <td>263490</td>\n",
       "      <td>Rust</td>\n",
       "      <td>PlayStation 4,Microsoft Windows,Linux,macOS,Xb...</td>\n",
       "      <td>Facepunch Studios,Double Eleven</td>\n",
       "      <td>Facepunch Studios,Double Eleven,Plaion</td>\n",
       "      <td>2013-12-11</td>\n",
       "      <td>FPS Shooter,RPG,Adventure Game,Indie Game,Surv...</td>\n",
       "      <td>Unity</td>\n",
       "      <td>Multiplayer</td>\n",
       "      <td>39.99</td>\n",
       "    </tr>\n",
       "    <tr>\n",
       "      <th>1</th>\n",
       "      <td>33214</td>\n",
       "      <td>Fortnite</td>\n",
       "      <td>macOS,Windows,PlayStation 4,Xbox One,iOS,Ninte...</td>\n",
       "      <td>Epic Games</td>\n",
       "      <td>Epic Games</td>\n",
       "      <td>2017-07-25</td>\n",
       "      <td>Shooter,RPG,Simulation,Strategy,Adventure Game...</td>\n",
       "      <td>Unreal Engine 5</td>\n",
       "      <td>Multiplayer</td>\n",
       "      <td>NaN</td>\n",
       "    </tr>\n",
       "    <tr>\n",
       "      <th>2</th>\n",
       "      <td>32982</td>\n",
       "      <td>Grand Theft Auto V</td>\n",
       "      <td>PlayStation 4,PlayStation 5,PlayStation 3,Xbox...</td>\n",
       "      <td>Rockstar North</td>\n",
       "      <td>Rockstar Games</td>\n",
       "      <td>2013-09-17</td>\n",
       "      <td>FPS,Shooter,Driving/Racing Game,Adventure Game...</td>\n",
       "      <td>RAGE</td>\n",
       "      <td>Single-player,Multiplayer</td>\n",
       "      <td>39.98</td>\n",
       "    </tr>\n",
       "    <tr>\n",
       "      <th>3</th>\n",
       "      <td>1672324422</td>\n",
       "      <td>Call of Duty: Black Ops 6</td>\n",
       "      <td>PlayStation 5,Xbox Series X and Series S,PlayS...</td>\n",
       "      <td>Treyarch,Raven Software</td>\n",
       "      <td>Activision</td>\n",
       "      <td>2024-10-25</td>\n",
       "      <td>FPS,Shooter,Action</td>\n",
       "      <td>IW</td>\n",
       "      <td>Single-player,Multiplayer</td>\n",
       "      <td>69.99</td>\n",
       "    </tr>\n",
       "    <tr>\n",
       "      <th>4</th>\n",
       "      <td>21779</td>\n",
       "      <td>League of Legends</td>\n",
       "      <td>macOS,Microsoft Windows,Mac operating systems</td>\n",
       "      <td>Riot Games</td>\n",
       "      <td>Riot Games</td>\n",
       "      <td>2009-10-27</td>\n",
       "      <td>RPG,Strategy MOBA,Action</td>\n",
       "      <td>Proprietary Engine</td>\n",
       "      <td>Multiplayer</td>\n",
       "      <td>0.00</td>\n",
       "    </tr>\n",
       "    <tr>\n",
       "      <th>...</th>\n",
       "      <td>...</td>\n",
       "      <td>...</td>\n",
       "      <td>...</td>\n",
       "      <td>...</td>\n",
       "      <td>...</td>\n",
       "      <td>...</td>\n",
       "      <td>...</td>\n",
       "      <td>...</td>\n",
       "      <td>...</td>\n",
       "      <td>...</td>\n",
       "    </tr>\n",
       "    <tr>\n",
       "      <th>79</th>\n",
       "      <td>32502</td>\n",
       "      <td>World of Warships</td>\n",
       "      <td>Microsoft Windows,iOS,Android,PlayStation 4,Pl...</td>\n",
       "      <td>Wargaming</td>\n",
       "      <td>Wargaming</td>\n",
       "      <td>2015-09-17</td>\n",
       "      <td>FPS,Shooter,RTS,Strategy,Simulation</td>\n",
       "      <td>BigWorld</td>\n",
       "      <td>Multiplayer</td>\n",
       "      <td>0.00</td>\n",
       "    </tr>\n",
       "    <tr>\n",
       "      <th>80</th>\n",
       "      <td>515024</td>\n",
       "      <td>Diablo IV</td>\n",
       "      <td>PlayStation 5,PlayStation 4,Xbox Series X and ...</td>\n",
       "      <td>Blizzard Entertainment,Team 3</td>\n",
       "      <td>Blizzard Entertainment</td>\n",
       "      <td>2023-06-05</td>\n",
       "      <td>RPG,Action,Horror,Adventure Game,MMO</td>\n",
       "      <td>Proprietary Engine</td>\n",
       "      <td>Single-player,Multiplayer</td>\n",
       "      <td>49.99</td>\n",
       "    </tr>\n",
       "    <tr>\n",
       "      <th>81</th>\n",
       "      <td>538054672</td>\n",
       "      <td>TEKKEN 8</td>\n",
       "      <td>PlayStation 5,Xbox Series X and Series S,Micro...</td>\n",
       "      <td>BANDAI NAMCO Studios,Tekken Project,ARIKA</td>\n",
       "      <td>Bandai Namco Entertainment</td>\n",
       "      <td>2024-01-26</td>\n",
       "      <td>Fighting,Action,Arcade</td>\n",
       "      <td>Unreal Engine 5</td>\n",
       "      <td>Single-player,Multiplayer</td>\n",
       "      <td>69.99</td>\n",
       "    </tr>\n",
       "    <tr>\n",
       "      <th>82</th>\n",
       "      <td>456845141</td>\n",
       "      <td>Zenless Zone Zero</td>\n",
       "      <td>PlayStation 5,Microsoft Windows,Android,iOS</td>\n",
       "      <td>miHoYo</td>\n",
       "      <td>miHoYo</td>\n",
       "      <td>2024-07-04</td>\n",
       "      <td>RPG,Adventure Game,Action</td>\n",
       "      <td>Unity</td>\n",
       "      <td>Single-player</td>\n",
       "      <td>NaN</td>\n",
       "    </tr>\n",
       "    <tr>\n",
       "      <th>83</th>\n",
       "      <td>20596</td>\n",
       "      <td>Dofus</td>\n",
       "      <td>Flash,Microsoft Windows,macOS</td>\n",
       "      <td>Ankama Games</td>\n",
       "      <td>Ankama Games</td>\n",
       "      <td>2004-09-01</td>\n",
       "      <td>RPG,Strategy,Adventure Game,MMO</td>\n",
       "      <td>Adobe Flash</td>\n",
       "      <td>Multiplayer</td>\n",
       "      <td>NaN</td>\n",
       "    </tr>\n",
       "  </tbody>\n",
       "</table>\n",
       "<p>84 rows × 10 columns</p>\n",
       "</div>"
      ],
      "text/plain": [
       "            id                       name  \\\n",
       "0       263490                       Rust   \n",
       "1        33214                   Fortnite   \n",
       "2        32982         Grand Theft Auto V   \n",
       "3   1672324422  Call of Duty: Black Ops 6   \n",
       "4        21779          League of Legends   \n",
       "..         ...                        ...   \n",
       "79       32502          World of Warships   \n",
       "80      515024                  Diablo IV   \n",
       "81   538054672                   TEKKEN 8   \n",
       "82   456845141          Zenless Zone Zero   \n",
       "83       20596                      Dofus   \n",
       "\n",
       "                                            platforms  \\\n",
       "0   PlayStation 4,Microsoft Windows,Linux,macOS,Xb...   \n",
       "1   macOS,Windows,PlayStation 4,Xbox One,iOS,Ninte...   \n",
       "2   PlayStation 4,PlayStation 5,PlayStation 3,Xbox...   \n",
       "3   PlayStation 5,Xbox Series X and Series S,PlayS...   \n",
       "4       macOS,Microsoft Windows,Mac operating systems   \n",
       "..                                                ...   \n",
       "79  Microsoft Windows,iOS,Android,PlayStation 4,Pl...   \n",
       "80  PlayStation 5,PlayStation 4,Xbox Series X and ...   \n",
       "81  PlayStation 5,Xbox Series X and Series S,Micro...   \n",
       "82        PlayStation 5,Microsoft Windows,Android,iOS   \n",
       "83                      Flash,Microsoft Windows,macOS   \n",
       "\n",
       "                                   developers  \\\n",
       "0             Facepunch Studios,Double Eleven   \n",
       "1                                  Epic Games   \n",
       "2                              Rockstar North   \n",
       "3                     Treyarch,Raven Software   \n",
       "4                                  Riot Games   \n",
       "..                                        ...   \n",
       "79                                  Wargaming   \n",
       "80              Blizzard Entertainment,Team 3   \n",
       "81  BANDAI NAMCO Studios,Tekken Project,ARIKA   \n",
       "82                                     miHoYo   \n",
       "83                               Ankama Games   \n",
       "\n",
       "                                publishers initial_release_date  \\\n",
       "0   Facepunch Studios,Double Eleven,Plaion           2013-12-11   \n",
       "1                               Epic Games           2017-07-25   \n",
       "2                           Rockstar Games           2013-09-17   \n",
       "3                               Activision           2024-10-25   \n",
       "4                               Riot Games           2009-10-27   \n",
       "..                                     ...                  ...   \n",
       "79                               Wargaming           2015-09-17   \n",
       "80                  Blizzard Entertainment           2023-06-05   \n",
       "81              Bandai Namco Entertainment           2024-01-26   \n",
       "82                                  miHoYo           2024-07-04   \n",
       "83                            Ankama Games           2004-09-01   \n",
       "\n",
       "                                               genres              engine  \\\n",
       "0   FPS Shooter,RPG,Adventure Game,Indie Game,Surv...               Unity   \n",
       "1   Shooter,RPG,Simulation,Strategy,Adventure Game...     Unreal Engine 5   \n",
       "2   FPS,Shooter,Driving/Racing Game,Adventure Game...                RAGE   \n",
       "3                                  FPS,Shooter,Action                  IW   \n",
       "4                            RPG,Strategy MOBA,Action  Proprietary Engine   \n",
       "..                                                ...                 ...   \n",
       "79                FPS,Shooter,RTS,Strategy,Simulation            BigWorld   \n",
       "80               RPG,Action,Horror,Adventure Game,MMO  Proprietary Engine   \n",
       "81                             Fighting,Action,Arcade     Unreal Engine 5   \n",
       "82                          RPG,Adventure Game,Action               Unity   \n",
       "83                    RPG,Strategy,Adventure Game,MMO         Adobe Flash   \n",
       "\n",
       "                        modes  base_cost_on_steam  \n",
       "0                 Multiplayer               39.99  \n",
       "1                 Multiplayer                 NaN  \n",
       "2   Single-player,Multiplayer               39.98  \n",
       "3   Single-player,Multiplayer               69.99  \n",
       "4                 Multiplayer                0.00  \n",
       "..                        ...                 ...  \n",
       "79                Multiplayer                0.00  \n",
       "80  Single-player,Multiplayer               49.99  \n",
       "81  Single-player,Multiplayer               69.99  \n",
       "82              Single-player                 NaN  \n",
       "83                Multiplayer                 NaN  \n",
       "\n",
       "[84 rows x 10 columns]"
      ]
     },
     "execution_count": 13,
     "metadata": {},
     "output_type": "execute_result"
    }
   ],
   "source": [
    "#clean dataframe\n",
    "import pandas as pd\n",
    "df = pd.read_csv('modified-data.csv')\n",
    "df = df.drop(['box_art_url', 'igdb_id'], axis=1)\n",
    "new_column_order=['id','name','platforms','developers','publishers','initial_release_date','genres','engine','modes','base_cost_on_steam']\n",
    "df=df[new_column_order]\n",
    "df.to_csv('is310-final-project-data.csv', index=False) \n",
    "df"
   ]
  },
  {
   "cell_type": "code",
   "execution_count": 14,
   "metadata": {},
   "outputs": [],
   "source": [
    "multi_value_columns = ['platforms', 'developers', 'publishers', 'genres', 'modes'] #Creates a list of column names\n",
    "for column in multi_value_columns:\n",
    "    df[column] = df[column].apply(lambda x: x.split(',') if isinstance(x, str) else x) #Splits string into list"
   ]
  },
  {
   "cell_type": "code",
   "execution_count": 15,
   "metadata": {},
   "outputs": [
    {
     "name": "stdout",
     "output_type": "stream",
     "text": [
      "['PlayStation 4' 'Microsoft Windows' 'Linux' 'macOS' 'Xbox One'\n",
      " 'Mac operating systems' 'Windows' 'iOS' 'Nintendo Switch' 'Android'\n",
      " 'Xbox Series X/S' 'PlayStation 5' 'PlayStation 3' 'Xbox 360'\n",
      " 'Xbox Series X and Series S' 'Xbox Cloud Gaming' 'Google Stadia' 'iPadOS'\n",
      " 'Raspberry Pi' 'Windows Phone' 'Fire OS' 'PlayStation Vita' 'Wii U'\n",
      " 'Apple TV' 'tvOS' 'New Nintendo 3DS' 'ChromeOS' 'GeForce Now' 'OS X'\n",
      " 'Mac OS X' 'Xbox' 'Sega Saturn' 'Stadia' 'GameCube' 'PlayStation 2' 'Wii'\n",
      " 'Zeebo' 'Oculus Quest 2' '3DO' 'Dreamcast' 'MacOS' 'Web browser'\n",
      " 'Arcade video game' 'Meta Quest 2' 'Meta Quest Pro' 'BlackBerry' 'J2ME'\n",
      " 'Nintendo DS' 'Nokia N-Gage' 'PlayStation' 'Flash']\n"
     ]
    }
   ],
   "source": [
    "#list of all platforms\n",
    "platforms_expanded = df.explode('platforms')\n",
    "each_platform=platforms_expanded['platforms'].unique()\n",
    "print(each_platform)"
   ]
  },
  {
   "cell_type": "code",
   "execution_count": 16,
   "metadata": {},
   "outputs": [
    {
     "name": "stdout",
     "output_type": "stream",
     "text": [
      "['Facepunch Studios' 'Double Eleven' 'Epic Games' 'Rockstar North'\n",
      " 'Treyarch' 'Raven Software' 'Riot Games' 'Ubisoft Montreal'\n",
      " 'Mojang Studios' 'EA Vancouver' 'EA Romania' 'Blizzard Entertainment'\n",
      " 'Valve' 'Respawn Entertainment' 'Turtle Rock Studios'\n",
      " 'Hidden Path Entertainment' 'Gearbox Software' 'Ritual Entertainment'\n",
      " 'Nexon' 'Sora Ltd.' 'Masahiro Sakurai' 'BANDAI NAMCO Studios'\n",
      " 'Nintendo Entertainment Planning & Development' 'Digital Factory'\n",
      " 'Behaviour Interactive' 'Infinity Ward' 'PUBG Studios' 'Mossmouth'\n",
      " 'Moppin' 'Eirik Suhrke' 'Jon Perry' 'Tyriq Plummer' 'Paul Hubans' 'LLC'\n",
      " 'Temple Gates Games' 'Crytek' 'Radatomic Studios' 'Capcom'\n",
      " 'Battlestate Games' 'EricLostie' 'Psyonix' 'FromSoftware Inc.'\n",
      " 'New World Computing' 'Loki Software' 'DotEmu' 'CipSoft' 'Keen Games'\n",
      " 'Paradox Development Studio' 'Kinetic Games' 'Supercell' 'NCSOFT'\n",
      " 'NC Studio' 'Bloober Team' 'Nintendo EAD' 'Nintendo EPD' 'Ubisoft Nadeo'\n",
      " 'The Pokémon Company' 'DeNA' 'Creatures Inc.' 'Grinding Gear Games'\n",
      " 'Bungie' 'Jagex' 'Roblox Corporation' 'Sledgehammer Games'\n",
      " 'Radical Entertainment' 'HoYoverse' 'Pearl Abyss' 'IRONMACE' 'Nicalis'\n",
      " 'Edmund McMillen' 'Bohemia Interactive Studio' 'Dean Hall'\n",
      " 'BOHEMIA INTERACTIVE a.s.' '343 Industries' 'Rockstar Games'\n",
      " 'Coal Supper' 'Sandbox Interactive' 'Wube Software'\n",
      " 'Absolute Entertainment' 'Imagineering' 'Cloud Imperium Games'\n",
      " 'Rockstar San Diego' 'Amazon Games' 'Relentless Game Studios'\n",
      " 'Amazon Games Orange County' 'Visual Concepts' 'OPNeon Games'\n",
      " 'lamedeveloper' 'Wargaming' 'VRChat Inc' 'Starbreeze Studios'\n",
      " 'Square Enix Business Division 5' 'Intrepid Studios' 'GIANTS Software'\n",
      " 'BioWare' 'Frontier Developments' 'EXBO' 'Game Freak' 'Tango Gameworks'\n",
      " 'Smilegate' 'Smile Gate RPG Inc.' 'Tripod Studio'\n",
      " 'Smilegate Entertainment' 'Inc.' 'Team 3' 'Tekken Project' 'ARIKA'\n",
      " 'miHoYo' 'Ankama Games']\n"
     ]
    }
   ],
   "source": [
    "developers_expanded = df.explode('developers')\n",
    "each_developer=developers_expanded['developers'].unique()\n",
    "print(each_developer)"
   ]
  },
  {
   "cell_type": "code",
   "execution_count": 17,
   "metadata": {},
   "outputs": [],
   "source": [
    "# The dictionary of developer categories\n",
    "types_of_developers={\n",
    "    'AAA': ['Rockstar North','Treyarch','Riot Games','Ubisoft Montreal','EA Vancouver','EA Romania',\n",
    "            'Blizzard Entertainment','Valve','Nintendo Entertainment Planning & Development','Capcom','FromSoftware Inc.','Loki Software',\n",
    "            'Nintendo EAD','Nintendo EPD','Ubisoft Nadeo','HoYoverse','343 Industries','Rockstar Games','Rockstar San Diego','Amazon Games','Amazon Games Orange County'\n",
    "            'Visual Concepts','Square Enix Business Division 5','BioWare'],\n",
    "    'AA': ['Facepunch Studios','Gearbox Software','Infinity Ward','PUBG Studios','Crytek','Paradox Development Studio','Grinding Gear Games','Bungie','Roblox Corporation','Bohemia Interactive Studio','Frontier Developments'],\n",
    "    'Indie': ['Double Eleven','Epic Games','Raven Software','Mojang Studios','Respawn Entertainment','Turtle Rock Studios',\n",
    "              'Hidden Path Entertainment','Ritual Entertainment','Nexon','Sora Ltd.','BANDAI NAMCO Studios', 'Digital Factory',\n",
    "              'Behaviour Interactive','Mossmouth','Moppin','Temple Gates Game','Radatomic Studios','Battlestate Games','EricLostie',\n",
    "              'Psyonix','New World Computing','CipSoft','Keen Games','Kinetic Games','Supercell','NCSOFT','Bloober Team','Jagex','Sledgehammer Games','Radical Entertainment',\n",
    "              'Pearl Abyss','IRONMACE','Nicalis','Coal Supper','Sandbox Interactive','Wube Software','Absolute Entertainment','Cloud Imperium Games','Relentless Game Studios','OPNeon Games',\n",
    "              'lamedeveloper','Wargaming','VRChat Inc','Starbreeze Studios','Intrepid Studios','GIANTS Software','EXBO','Game Freak','Tango Gameworks','Smilegate','Smile Gate RPG Inc.','Tripod Studio',\n",
    "              'Smilegate Entertainment','Team 3','miHoYo','Ankama Games']\n",
    "}"
   ]
  },
  {
   "cell_type": "code",
   "execution_count": 18,
   "metadata": {},
   "outputs": [],
   "source": [
    "# Function to categorize a single developer\n",
    "def categorize_developers(developer):\n",
    "    categories = set()  # Create a set to store categories for each developer\n",
    "    for category, keywords in types_of_developers.items():  # types_of_developers is accessed directly\n",
    "        if developer in keywords:  # Check if the platform is in the list of keywords for the category\n",
    "            categories.add(category)  # Add the category if matched\n",
    "    return list(categories) if categories else ['Unknown']  # Return the categories or 'Unknown' if no match\n",
    "# Function to categorize a list of platforms\n",
    "def categorize_developers_list(developer_list):\n",
    "    categories = set()\n",
    "    for developer in developer_list:  # Loop through each platform in the list\n",
    "        categories.update(categorize_developers(developer))  # Add categories for each platform\n",
    "    return list(categories) if categories else ['Unknown']  # Return combined categories"
   ]
  },
  {
   "cell_type": "code",
   "execution_count": 19,
   "metadata": {},
   "outputs": [
    {
     "name": "stdout",
     "output_type": "stream",
     "text": [
      "[['Unknown'], ['Unknown'], ['Unknown'], ['Unknown'], ['Unknown'], ['Unknown'], ['Unknown'], ['Unknown'], ['Unknown'], ['Unknown'], ['Unknown'], ['Unknown'], ['Unknown'], ['Unknown'], ['Unknown'], ['Unknown'], ['Unknown'], ['Unknown'], ['Unknown'], ['Unknown'], ['Unknown'], ['Unknown'], ['Unknown'], ['Unknown'], ['Unknown'], ['Unknown'], ['Unknown'], ['Unknown'], ['Unknown'], ['Unknown'], ['Unknown'], ['Unknown'], ['Unknown'], ['Unknown'], ['Unknown'], ['Unknown'], ['Unknown'], ['Unknown'], ['Unknown'], ['Unknown'], ['Unknown'], ['Unknown'], ['Unknown'], ['Unknown'], ['Unknown'], ['Unknown'], ['Unknown'], ['Unknown'], ['Unknown'], ['Unknown'], ['Unknown'], ['Unknown'], ['Unknown'], ['Unknown'], ['Unknown'], ['Unknown'], ['Unknown'], ['Unknown'], ['Unknown'], ['Unknown'], ['Unknown'], ['Unknown'], ['Unknown'], ['Unknown'], ['Unknown'], ['Unknown'], ['Unknown'], ['Unknown'], ['Unknown'], ['Unknown'], ['Unknown'], ['Unknown'], ['Unknown'], ['Unknown'], ['Unknown'], ['Unknown'], ['Unknown'], ['Unknown'], ['Unknown'], ['Unknown'], ['Unknown'], ['Unknown'], ['Unknown'], ['Unknown'], ['Unknown'], ['Unknown'], ['Unknown'], ['Unknown'], ['Unknown'], ['Unknown'], ['Unknown'], ['Unknown'], ['Unknown'], ['Unknown'], ['Unknown'], ['Unknown'], ['Unknown'], ['Unknown'], ['Unknown'], ['Unknown'], ['Unknown'], ['Unknown'], ['Unknown'], ['Unknown'], ['Unknown'], ['Unknown'], ['Unknown'], ['Unknown'], ['Unknown']]\n"
     ]
    }
   ],
   "source": [
    "each_developer=developers_expanded['developers'].unique() # Unique platforms as a NumPy array\n",
    "# Categorize each platform\n",
    "categorized_developers = [categorize_developers_list(developer) for developer in each_developer]\n",
    "print(categorized_developers)"
   ]
  },
  {
   "cell_type": "code",
   "execution_count": 20,
   "metadata": {},
   "outputs": [
    {
     "name": "stdout",
     "output_type": "stream",
     "text": [
      "                           developers type_of_developer\n",
      "0  [Facepunch Studios, Double Eleven]       [Indie, AA]\n",
      "1                        [Epic Games]           [Indie]\n",
      "2                    [Rockstar North]             [AAA]\n",
      "3          [Treyarch, Raven Software]      [Indie, AAA]\n",
      "4                        [Riot Games]             [AAA]\n"
     ]
    }
   ],
   "source": [
    "df['type_of_developer'] = df['developers'].apply(categorize_developers_list)\n",
    "print(df[['developers', 'type_of_developer']].head())"
   ]
  },
  {
   "cell_type": "code",
   "execution_count": 21,
   "metadata": {},
   "outputs": [
    {
     "data": {
      "image/png": "[encoded data removed]",
      "text/plain": [
       "<Figure size 640x480 with 1 Axes>"
      ]
     },
     "metadata": {},
     "output_type": "display_data"
    }
   ],
   "source": [
    "import pandas as pd\n",
    "import matplotlib.pyplot as plt\n",
    "\n",
    "def simplify_category(categories):\n",
    "    if len(categories) > 1:\n",
    "        return 'Multiple'\n",
    "    return categories[0]\n",
    "\n",
    "df['simplified_category'] = df['type_of_developer'].apply(simplify_category)\n",
    "\n",
    "# Count games in each category\n",
    "category_counts = df['simplified_category'].value_counts()\n",
    "\n",
    "# Plot using Matplotlib\n",
    "plt.bar(category_counts.index, category_counts.values, color=['blue', 'green', 'orange', 'red'])\n",
    "plt.title('Number of Games by Developer Type')\n",
    "plt.xlabel('Developer Type')\n",
    "plt.ylabel('Number of Games')\n",
    "plt.show()\n"
   ]
  },
  {
   "cell_type": "code",
   "execution_count": 22,
   "metadata": {},
   "outputs": [],
   "source": [
    "# The dictionary of platform categories\n",
    "types_of_platforms={\n",
    "    'PC': ['ChromeOS','Linux','Mac OS X','Mac operating systems','MacOS','Microsoft Windows','OS X','Windows','macOS'],\n",
    "    'Console': ['3DO','Dreamcast','GameCube','Google Stadia','New Nintendo 3DS','Nintendo DS','Nintendo Switch','PlayStation','PlayStation 2', \n",
    "                'PlayStation 3','PlayStation 4','PlayStation 5','PlayStation Vita','Sega Saturn','Stadia','Wii','Wii U','Xbox','Xbox 360',\n",
    "                'Xbox Cloud Gaming','Xbox One','Xbox Series X and Series S','Xbox Series X/S','Zeebo'],\n",
    "    'Mobile': ['Android','BlackBerry','Fire OS','J2ME','Nokia N-Gage','Windows Phone','iOS','iPadOS'],\n",
    "    'Web': ['Flash','Web browser'],\n",
    "    'Other': ['Apple TV','Arcade video game','GeForce Now','Meta Quest 2','Meta Quest Pro','Oculus Quest 2','Raspberry Pi','tvOS']\n",
    "}"
   ]
  },
  {
   "cell_type": "code",
   "execution_count": 23,
   "metadata": {},
   "outputs": [],
   "source": [
    "# Function to categorize a single platform\n",
    "def categorize_platform(platform):\n",
    "    categories = set()  # Create a set to store categories for each platform\n",
    "    for category, keywords in types_of_platforms.items():  # types_of_platforms is accessed directly\n",
    "        if platform in keywords:  # Check if the platform is in the list of keywords for the category\n",
    "            categories.add(category)  # Add the category if matched\n",
    "    return list(categories) if categories else ['Unknown']  # Return the categories or 'Unknown' if no match\n",
    "# Function to categorize a list of platforms\n",
    "def categorize_platforms_list(platform_list):\n",
    "    categories = set()\n",
    "    for platform in platform_list:  # Loop through each platform in the list\n",
    "        categories.update(categorize_platform(platform))  # Add categories for each platform\n",
    "    return list(categories) if categories else ['Unknown']  # Return combined categories"
   ]
  },
  {
   "cell_type": "code",
   "execution_count": 24,
   "metadata": {},
   "outputs": [
    {
     "name": "stdout",
     "output_type": "stream",
     "text": [
      "[['Console'], ['PC'], ['PC'], ['PC'], ['Console'], ['PC'], ['PC'], ['Mobile'], ['Console'], ['Mobile'], ['Console'], ['Console'], ['Console'], ['Console'], ['Console'], ['Console'], ['Console'], ['Mobile'], ['Other'], ['Mobile'], ['Mobile'], ['Console'], ['Console'], ['Other'], ['Other'], ['Console'], ['PC'], ['Other'], ['PC'], ['PC'], ['Console'], ['Console'], ['Console'], ['Console'], ['Console'], ['Console'], ['Console'], ['Other'], ['Console'], ['Console'], ['PC'], ['Web'], ['Other'], ['Other'], ['Other'], ['Mobile'], ['Mobile'], ['Console'], ['Mobile'], ['Console'], ['Web']]\n"
     ]
    }
   ],
   "source": [
    "each_platform = platforms_expanded['platforms'].unique() # Unique platforms as a NumPy array\n",
    "# Categorize each platform\n",
    "categorized_platforms = [categorize_platform(platform) for platform in each_platform]\n",
    "print(categorized_platforms)"
   ]
  },
  {
   "cell_type": "code",
   "execution_count": 25,
   "metadata": {},
   "outputs": [
    {
     "name": "stdout",
     "output_type": "stream",
     "text": [
      "                                           platforms    platform_categories\n",
      "0  [PlayStation 4, Microsoft Windows, Linux, macO...          [Console, PC]\n",
      "1  [macOS, Windows, PlayStation 4, Xbox One, iOS,...  [Mobile, Console, PC]\n",
      "2  [PlayStation 4, PlayStation 5, PlayStation 3, ...          [Console, PC]\n",
      "3  [PlayStation 5, Xbox Series X and Series S, Pl...          [Console, PC]\n",
      "4  [macOS, Microsoft Windows, Mac operating systems]                   [PC]\n"
     ]
    }
   ],
   "source": [
    "#Add 'platform categories'as new column\n",
    "df['platform_categories'] = df['platforms'].apply(categorize_platforms_list)\n",
    "print(df[['platforms', 'platform_categories']].head())"
   ]
  },
  {
   "cell_type": "code",
   "execution_count": 26,
   "metadata": {},
   "outputs": [
    {
     "name": "stdout",
     "output_type": "stream",
     "text": [
      "platform_categories\n",
      "PC         77\n",
      "Console    57\n",
      "Mobile     25\n",
      "Other      17\n",
      "Web         2\n",
      "Name: count, dtype: int64\n"
     ]
    }
   ],
   "source": [
    "# Explode the 'platform_categories' column to get each category in a separate row\n",
    "df_exploded = df.explode('platform_categories')\n",
    "\n",
    "# Count the occurrences of each platform category\n",
    "top_platform_categories = df_exploded['platform_categories'].value_counts()\n",
    "print(top_platform_categories)"
   ]
  },
  {
   "cell_type": "code",
   "execution_count": 27,
   "metadata": {},
   "outputs": [
    {
     "name": "stdout",
     "output_type": "stream",
     "text": [
      "developers\n",
      "Blizzard Entertainment    4\n",
      "Riot Games                4\n",
      "Valve                     3\n",
      "Raven Software            3\n",
      "Wargaming                 2\n",
      "BANDAI NAMCO Studios      2\n",
      "Infinity Ward             2\n",
      "Mossmouth                 2\n",
      "Treyarch                  2\n",
      "Capcom                    2\n",
      "Name: count, dtype: int64\n"
     ]
    }
   ],
   "source": [
    "# Explode the 'developers' column to get each category in a separate row\n",
    "df_exploded = df.explode('developers')\n",
    "\n",
    "# Count the occurrences of each developers\n",
    "top_developers = df_exploded['developers'].value_counts()\n",
    "print(top_developers.head(10))"
   ]
  },
  {
   "cell_type": "code",
   "execution_count": 28,
   "metadata": {},
   "outputs": [
    {
     "name": "stdout",
     "output_type": "stream",
     "text": [
      "publishers\n",
      "Riot Games                4\n",
      "Electronic Arts           4\n",
      "Blizzard Entertainment    4\n",
      "Amazon Games              3\n",
      "Rockstar Games            3\n",
      "Activision                3\n",
      "Ubisoft                   3\n",
      "Nintendo                  3\n",
      "Valve                     3\n",
      "Wargaming                 2\n",
      "Name: count, dtype: int64\n"
     ]
    }
   ],
   "source": [
    "# Explode the 'publishers' column to get each category in a separate row\n",
    "df_exploded = df.explode('publishers')\n",
    "\n",
    "# Count the occurrences of each publisher\n",
    "top_publishers = df_exploded['publishers'].value_counts()\n",
    "print(top_publishers.head(10))"
   ]
  },
  {
   "cell_type": "code",
   "execution_count": 29,
   "metadata": {},
   "outputs": [
    {
     "data": {
      "image/png": "[encoded data removed]",
      "text/plain": [
       "<Figure size 640x480 with 1 Axes>"
      ]
     },
     "metadata": {},
     "output_type": "display_data"
    }
   ],
   "source": [
    "import matplotlib.pyplot as plt\n",
    "import pandas as pd\n",
    "\n",
    "# Convert the 'initial_release_date' column to datetime, handling errors\n",
    "df['initial_release_date'] = pd.to_datetime(df['initial_release_date'], errors='coerce')\n",
    "\n",
    "#Calculate game age\n",
    "df['game_age'] = (pd.to_datetime('today') - df['initial_release_date']).dt.days / 365.25\n",
    "\n",
    "# Round game age to nearest whole year\n",
    "df['game_age'] = round(df['game_age'])\n",
    "\n",
    "#Group games by age bins\n",
    "age_bins = [0, 1, 3, 5, 10, 20, 100]\n",
    "age_labels = ['0-1', '1-3', '3-5', '5-10', '10-20', '20+']\n",
    "df['age_group'] = pd.cut(df['game_age'], bins=age_bins, labels=age_labels)\n",
    "\n",
    "#Count the number of games in each age group\n",
    "age_group_counts = df['age_group'].value_counts().sort_index()\n",
    "\n",
    "# Step 3: Plot the counts in a bar plot\n",
    "age_group_counts.plot(kind='bar', color='skyblue', title='Number of Games in Each Age Group')\n",
    "plt.xlabel('Game Age Group')\n",
    "plt.ylabel('Number of Games')\n",
    "plt.xticks(rotation=45)\n",
    "plt.yticks(range(0, int(age_group_counts.max()) + 2, 2))\n",
    "plt.show()"
   ]
  },
  {
   "cell_type": "code",
   "execution_count": 30,
   "metadata": {},
   "outputs": [
    {
     "name": "stdout",
     "output_type": "stream",
     "text": [
      "6.0 7.493670886075949\n"
     ]
    }
   ],
   "source": [
    "print(df['game_age'].median(),df['game_age'].mean())"
   ]
  },
  {
   "cell_type": "code",
   "execution_count": 31,
   "metadata": {},
   "outputs": [
    {
     "name": "stdout",
     "output_type": "stream",
     "text": [
      "7.493670886075949\n"
     ]
    }
   ],
   "source": [
    "print(df['game_age'].mean())"
   ]
  },
  {
   "cell_type": "code",
   "execution_count": 32,
   "metadata": {},
   "outputs": [
    {
     "name": "stdout",
     "output_type": "stream",
     "text": [
      "genres\n",
      "Action            53\n",
      "Adventure Game    37\n",
      "RPG               35\n",
      "Shooter           30\n",
      "FPS               23\n",
      "Simulation        18\n",
      "Strategy          18\n",
      "MMO               18\n",
      "Open World        18\n",
      "Arcade             9\n",
      "Name: count, dtype: int64\n"
     ]
    }
   ],
   "source": [
    "# Explode the 'genre' column to get each category in a separate row\n",
    "df_exploded = df.explode('genres')\n",
    "\n",
    "# Count the occurrences of each publisher\n",
    "top_genres = df_exploded['genres'].value_counts()\n",
    "print(top_genres.head(10))"
   ]
  },
  {
   "cell_type": "code",
   "execution_count": 33,
   "metadata": {},
   "outputs": [
    {
     "name": "stdout",
     "output_type": "stream",
     "text": [
      "modes\n",
      "Multiplayer      75\n",
      "Single-player    44\n",
      "Single player     4\n",
      "Co-operative      4\n",
      "Name: count, dtype: int64\n"
     ]
    }
   ],
   "source": [
    "# Explode the 'modes' column to get each category in a separate row\n",
    "df_exploded = df.explode('modes')\n",
    "\n",
    "# Count the occurrences of each publisher\n",
    "top_modes = df_exploded['modes'].value_counts()\n",
    "print(top_modes.head())"
   ]
  },
  {
   "cell_type": "code",
   "execution_count": 34,
   "metadata": {},
   "outputs": [
    {
     "name": "stdout",
     "output_type": "stream",
     "text": [
      "24.975862068965515\n",
      "19.99\n",
      "0    0.0\n",
      "Name: base_cost_on_steam, dtype: float64\n"
     ]
    }
   ],
   "source": [
    "#Find average cost of games\n",
    "print(df['base_cost_on_steam'].mean())\n",
    "print(df['base_cost_on_steam'].median())\n",
    "print(df['base_cost_on_steam'].mode())"
   ]
  },
  {
   "cell_type": "code",
   "execution_count": 35,
   "metadata": {},
   "outputs": [
    {
     "name": "stdout",
     "output_type": "stream",
     "text": [
      "21\n"
     ]
    }
   ],
   "source": [
    "free_games = df[df['base_cost_on_steam'] == 0.0]\n",
    "\n",
    "# Count the number of free games\n",
    "num_free_games = free_games.shape[0]\n",
    "print(num_free_games)"
   ]
  }
 ],
 "metadata": {
  "kernelspec": {
   "display_name": "is310-1",
   "language": "python",
   "name": "python3"
  },
  "language_info": {
   "codemirror_mode": {
    "name": "ipython",
    "version": 3
   },
   "file_extension": ".py",
   "mimetype": "text/x-python",
   "name": "python",
   "nbconvert_exporter": "python",
   "pygments_lexer": "ipython3",
   "version": "3.9.20"
  }
 },
 "nbformat": 4,
 "nbformat_minor": 2
}
